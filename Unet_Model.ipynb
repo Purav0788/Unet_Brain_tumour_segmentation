{
  "nbformat": 4,
  "nbformat_minor": 0,
  "metadata": {
    "colab": {
      "name": "Main_file.ipynb",
      "provenance": [],
      "collapsed_sections": [
        "_KyFVJBtDJSR"
      ],
      "machine_shape": "hm"
    },
    "kernelspec": {
      "name": "python3",
      "display_name": "Python 3"
    },
    "accelerator": "GPU"
  },
  "cells": [
    {
      "cell_type": "markdown",
      "metadata": {
        "id": "view-in-github"
      },
      "source": [
        "<a href=\"https://colab.research.google.com/github/as791/Brain-Tumor-Segmentation-BRaTS-18/blob/master/Main_file.ipynb\" target=\"_parent\"><img src=\"https://colab.research.google.com/assets/colab-badge.svg\" alt=\"Open In Colab\"/></a>"
      ]
    },
    {
      "cell_type": "markdown",
      "metadata": {
        "id": "K9HupVeqgqzu"
      },
      "source": [
        "#Connecting Google Drive"
      ]
    },
    {
      "cell_type": "code",
      "metadata": {
        "id": "wwSBesb6FGTH"
      },
      "source": [
        "from google.colab import drive\n",
        "import os\n",
        "drive.mount('/content/drive',force_remount=True)\n",
        "os.chdir('/content/drive/My Drive/Dataset')"
      ],
      "execution_count": null,
      "outputs": []
    },
    {
      "cell_type": "code",
      "metadata": {
        "id": "qG-IfAtaF65D",
        "outputId": "f131ff5d-aa56-4c44-e6c9-32d5fc7de8e7",
        "colab": {
          "base_uri": "https://localhost:8080/",
          "height": 256
        }
      },
      "source": [
        "os.listdir()"
      ],
      "execution_count": null,
      "outputs": [
        {
          "output_type": "execute_result",
          "data": {
            "text/plain": [
              "['LGG',\n",
              " 'HGG',\n",
              " 'survival_data.csv',\n",
              " 'Model_logs',\n",
              " 'Training Data',\n",
              " 'Test Data',\n",
              " 'Validation Data',\n",
              " 'Extracted Data',\n",
              " 'Saved Models ',\n",
              " 'Miscellaneous ',\n",
              " 'Model Checkpoints',\n",
              " 'unet.png',\n",
              " 'Main_file.ipynb']"
            ]
          },
          "metadata": {
            "tags": []
          },
          "execution_count": 2
        }
      ]
    },
    {
      "cell_type": "markdown",
      "metadata": {
        "id": "vVLTjIlkOQ24"
      },
      "source": [
        "#Loading data from mri scans"
      ]
    },
    {
      "cell_type": "code",
      "metadata": {
        "id": "pcrl0XP1F9fQ"
      },
      "source": [
        "path1 = './HGG/'\n",
        "path2 = './LGG/'"
      ],
      "execution_count": null,
      "outputs": []
    },
    {
      "cell_type": "code",
      "metadata": {
        "id": "T6wEVlw2Gghe",
        "outputId": "e6e6ea62-26e3-4534-a6c9-7647f5b101ec",
        "colab": {
          "base_uri": "https://localhost:8080/",
          "height": 129
        }
      },
      "source": [
        "!pip install SimpleITK"
      ],
      "execution_count": null,
      "outputs": [
        {
          "output_type": "stream",
          "text": [
            "Collecting SimpleITK\n",
            "\u001b[?25l  Downloading https://files.pythonhosted.org/packages/f8/d8/53338c34f71020725ffb3557846c80af96c29c03bc883551a2565aa68a7c/SimpleITK-1.2.4-cp36-cp36m-manylinux1_x86_64.whl (42.5MB)\n",
            "\u001b[K     |████████████████████████████████| 42.5MB 169kB/s \n",
            "\u001b[?25hInstalling collected packages: SimpleITK\n",
            "Successfully installed SimpleITK-1.2.4\n"
          ],
          "name": "stdout"
        }
      ]
    },
    {
      "cell_type": "code",
      "metadata": {
        "id": "AmpewYzHGjy3"
      },
      "source": [
        "import SimpleITK as sitk \n",
        "from tqdm import tqdm\n",
        "import numpy as np"
      ],
      "execution_count": null,
      "outputs": []
    },
    {
      "cell_type": "code",
      "metadata": {
        "id": "u0Cp9hx3GPMr"
      },
      "source": [
        "def load_data(path):\n",
        "  my_dir = sorted(os.listdir(path))\n",
        "  data = []\n",
        "  gt = []\n",
        "  for p in tqdm(my_dir):\n",
        "    data_list = sorted(os.listdir(path+p))\n",
        "    img_itk = sitk.ReadImage(path + p + '/'+ data_list[0])\n",
        "    flair = sitk.GetArrayFromImage(img_itk)\n",
        "    img_itk = sitk.ReadImage(path + p + '/'+ data_list[1])\n",
        "    seg =  sitk.GetArrayFromImage(img_itk)\n",
        "    img_itk = sitk.ReadImage(path + p + '/'+ data_list[2])    \n",
        "    t1 =  sitk.GetArrayFromImage(img_itk)\n",
        "    img_itk = sitk.ReadImage(path + p + '/'+ data_list[3])\n",
        "    t1ce =  sitk.GetArrayFromImage(img_itk)\n",
        "    img_itk = sitk.ReadImage(path + p + '/'+ data_list[4])\n",
        "    t2 =  sitk.GetArrayFromImage(img_itk)\n",
        "    data.append([flair,t1,t1ce,t2])\n",
        "    gt.append(seg)\n",
        "  data = np.asarray(data,dtype=np.float32)\n",
        "  gt = np.asarray(gt,dtype=np.uint8)\n",
        "  return data,gt"
      ],
      "execution_count": null,
      "outputs": []
    },
    {
      "cell_type": "code",
      "metadata": {
        "id": "CyhZuIKwONOt",
        "outputId": "2a5b1d54-4f9a-4d1a-8540-45b698ac5215",
        "colab": {
          "base_uri": "https://localhost:8080/",
          "height": 35
        }
      },
      "source": [
        "# for HGG\n",
        "data1,gt1 = load_data(path1)   #dividing HGG in three parts i.e. 210 into three sets of 70 \n",
        "# for LGG\n",
        "# data2,gt2 = load_data(path2)  #LGG having 75 patients "
      ],
      "execution_count": null,
      "outputs": [
        {
          "output_type": "stream",
          "text": [
            "100%|██████████| 75/75 [03:53<00:00,  2.78s/it]\n"
          ],
          "name": "stderr"
        }
      ]
    },
    {
      "cell_type": "code",
      "metadata": {
        "id": "a5OdL4BIWFiy",
        "outputId": "be49ac39-1791-4f45-f6d1-6433c1d3ec52",
        "colab": {
          "base_uri": "https://localhost:8080/",
          "height": 34
        }
      },
      "source": [
        "# data2.shape,gt2.shape,data2.dtype,gt2.dtype"
      ],
      "execution_count": null,
      "outputs": [
        {
          "output_type": "execute_result",
          "data": {
            "text/plain": [
              "((75, 4, 155, 240, 240), (75, 155, 240, 240), dtype('int16'), dtype('int16'))"
            ]
          },
          "metadata": {
            "tags": []
          },
          "execution_count": 14
        }
      ]
    },
    {
      "cell_type": "code",
      "metadata": {
        "id": "-zHA_HjdUizj",
        "outputId": "210dbf62-4560-44f7-81cc-d2e8c468d544",
        "colab": {
          "base_uri": "https://localhost:8080/",
          "height": 521
        }
      },
      "source": [
        "# import matplotlib.pyplot as plt\n",
        "# plt.imshow(data2[45,2,65,:,:])\n",
        "# plt.show()\n",
        "# plt.imshow(gt2[45,65,:,:])\n",
        "# plt.show()"
      ],
      "execution_count": null,
      "outputs": [
        {
          "output_type": "display_data",
          "data": {
            "image/png": "[encoded data removed]",
            "text/plain": [
              "<Figure size 432x288 with 1 Axes>"
            ]
          },
          "metadata": {
            "tags": []
          }
        },
        {
          "output_type": "display_data",
          "data": {
            "image/png": "[encoded data removed]",
            "text/plain": [
              "<Figure size 432x288 with 1 Axes>"
            ]
          },
          "metadata": {
            "tags": []
          }
        }
      ]
    },
    {
      "cell_type": "code",
      "metadata": {
        "id": "UbnT8A62kCr3"
      },
      "source": [
        "# np.save('data2.npy',data2)\n",
        "# np.save('gt2.npy',gt2)"
      ],
      "execution_count": null,
      "outputs": []
    },
    {
      "cell_type": "markdown",
      "metadata": {
        "id": "IZWoSVQQpSCK"
      },
      "source": [
        "#Loading saved data for usage"
      ]
    },
    {
      "cell_type": "code",
      "metadata": {
        "id": "jDmFXealhdxy"
      },
      "source": [
        "import numpy as np\n",
        "from tqdm import tqdm"
      ],
      "execution_count": null,
      "outputs": []
    },
    {
      "cell_type": "code",
      "metadata": {
        "id": "T2q_muW8jEUF"
      },
      "source": [
        "data = np.load('./Extracted Data/data2.npy')\n",
        "gt = np.load('./Extracted Data/gt2.npy')"
      ],
      "execution_count": null,
      "outputs": []
    },
    {
      "cell_type": "code",
      "metadata": {
        "id": "roMBLbffKgsB"
      },
      "source": [
        "data = np.transpose(data,(0,2,3,4,1))"
      ],
      "execution_count": null,
      "outputs": []
    },
    {
      "cell_type": "code",
      "metadata": {
        "id": "DiRnDDVvkYuk",
        "outputId": "c1256972-842e-486f-e58d-de0ebaec6d72",
        "colab": {
          "base_uri": "https://localhost:8080/",
          "height": 35
        }
      },
      "source": [
        "data.shape,gt.shape,data.dtype,gt.dtype"
      ],
      "execution_count": null,
      "outputs": [
        {
          "output_type": "execute_result",
          "data": {
            "text/plain": [
              "((75, 155, 240, 240, 4), (75, 155, 240, 240), dtype('int16'), dtype('int16'))"
            ]
          },
          "metadata": {
            "tags": []
          },
          "execution_count": 6
        }
      ]
    },
    {
      "cell_type": "code",
      "metadata": {
        "id": "hDY8ISjFk8jV",
        "outputId": "a31367d4-d9e7-4432-fc04-f3bea5b33f05",
        "colab": {
          "base_uri": "https://localhost:8080/",
          "height": 521
        }
      },
      "source": [
        "import matplotlib.pyplot as plt\n",
        "plt.imshow(data[50,70,:,:,2])\n",
        "plt.show()\n",
        "plt.imshow(gt[50,70,:,:])\n",
        "plt.show()"
      ],
      "execution_count": null,
      "outputs": [
        {
          "output_type": "display_data",
          "data": {
            "image/png": "[encoded data removed]",
            "text/plain": [
              "<Figure size 432x288 with 1 Axes>"
            ]
          },
          "metadata": {
            "tags": []
          }
        },
        {
          "output_type": "display_data",
          "data": {
            "image/png": "[encoded data removed]",
            "text/plain": [
              "<Figure size 432x288 with 1 Axes>"
            ]
          },
          "metadata": {
            "tags": []
          }
        }
      ]
    },
    {
      "cell_type": "markdown",
      "metadata": {
        "id": "SLNUTlTBsSPY"
      },
      "source": [
        "# Pre-Processing of data "
      ]
    },
    {
      "cell_type": "code",
      "metadata": {
        "id": "J98P5jKcQlvh",
        "outputId": "bc63975f-c231-456e-eb71-d7f4b8d941b7",
        "colab": {
          "base_uri": "https://localhost:8080/",
          "height": 35
        }
      },
      "source": [
        "data.shape,gt.shape"
      ],
      "execution_count": null,
      "outputs": [
        {
          "output_type": "execute_result",
          "data": {
            "text/plain": [
              "((75, 155, 240, 240, 4), (75, 155, 240, 240))"
            ]
          },
          "metadata": {
            "tags": []
          },
          "execution_count": 8
        }
      ]
    },
    {
      "cell_type": "code",
      "metadata": {
        "id": "-6zKHIn4LAN-"
      },
      "source": [
        "'''Taking Only from 30th slice till 120th slice for creating the data and also cropping the images to discard useless background \n",
        "So, from 240x240x4 each image now becomes of shape 192x192x4 taking all 4 modalities''' "
      ],
      "execution_count": null,
      "outputs": []
    },
    {
      "cell_type": "code",
      "metadata": {
        "id": "NJSrnmls1sol"
      },
      "source": [
        "data = data[:,30:120,30:222,30:222,:].reshape([-1,192,192,4])\n",
        "gt = gt[:,30:120,30:222,30:222].reshape([-1,192,192,1])"
      ],
      "execution_count": null,
      "outputs": []
    },
    {
      "cell_type": "code",
      "metadata": {
        "id": "yG6JZMTK2HRX",
        "outputId": "a5e878dd-733b-49af-9d3a-519545401aca",
        "colab": {
          "base_uri": "https://localhost:8080/",
          "height": 35
        }
      },
      "source": [
        "data.shape,gt.shape"
      ],
      "execution_count": null,
      "outputs": [
        {
          "output_type": "execute_result",
          "data": {
            "text/plain": [
              "((6750, 192, 192, 4), (6750, 192, 192, 1))"
            ]
          },
          "metadata": {
            "tags": []
          },
          "execution_count": 10
        }
      ]
    },
    {
      "cell_type": "code",
      "metadata": {
        "id": "cEJnl3cCAloP"
      },
      "source": [
        "gt[np.where(gt==4)]=3   #converting ground truth value of 4 to 3 to do one hot encoding (Consider value 3 in results in output as class 4)"
      ],
      "execution_count": null,
      "outputs": []
    },
    {
      "cell_type": "code",
      "metadata": {
        "id": "6R48jIx1N0nv"
      },
      "source": [
        "from sklearn.model_selection import train_test_split\n",
        "X_train, X_test, Y_train, Y_test = train_test_split(data, gt, test_size=0.20, random_state=42)\n",
        "X_train, X_val, Y_train, Y_val = train_test_split(X_train, Y_train, test_size=0.25,random_state=42)"
      ],
      "execution_count": null,
      "outputs": []
    },
    {
      "cell_type": "code",
      "metadata": {
        "id": "BQHpkB6eo7Xe"
      },
      "source": [
        "%tensorflow_version 1.x"
      ],
      "execution_count": null,
      "outputs": []
    },
    {
      "cell_type": "code",
      "metadata": {
        "id": "1yN7fCRoTaAQ",
        "outputId": "9dbf6778-d4b8-470f-fcae-d37b9815766a",
        "colab": {
          "base_uri": "https://localhost:8080/",
          "height": 35
        }
      },
      "source": [
        "from keras.utils import to_categorical,normalize\n",
        "Y_train = to_categorical(Y_train)\n",
        "Y_val = to_categorical(Y_val)\n",
        "X_train = (X_train-np.mean(X_train))/np.max(X_train)\n",
        "X_test = (X_test-np.mean(X_test))/np.max(X_test)\n",
        "X_val = (X_val-np.mean(X_val))/np.max(X_val)"
      ],
      "execution_count": null,
      "outputs": [
        {
          "output_type": "stream",
          "text": [
            "Using TensorFlow backend.\n"
          ],
          "name": "stderr"
        }
      ]
    },
    {
      "cell_type": "code",
      "metadata": {
        "id": "LIYVglRp2B7K",
        "outputId": "b191eab8-9ddf-415c-92f6-ec2f71d333e4",
        "colab": {
          "base_uri": "https://localhost:8080/",
          "height": 127
        }
      },
      "source": [
        "X_train.shape,Y_train.shape, X_val.shape, Y_val.shape, X_test.shape, Y_test.shape"
      ],
      "execution_count": null,
      "outputs": [
        {
          "output_type": "execute_result",
          "data": {
            "text/plain": [
              "((4050, 192, 192, 4),\n",
              " (4050, 192, 192, 4),\n",
              " (1350, 192, 192, 4),\n",
              " (1350, 192, 192, 4),\n",
              " (1350, 192, 192, 4),\n",
              " (1350, 192, 192, 1))"
            ]
          },
          "metadata": {
            "tags": []
          },
          "execution_count": 15
        }
      ]
    },
    {
      "cell_type": "code",
      "metadata": {
        "id": "j6z2pMvRD51W",
        "outputId": "ab075e85-588f-4262-b0d0-e9bc04617d46",
        "colab": {
          "base_uri": "https://localhost:8080/",
          "height": 521
        }
      },
      "source": [
        "plt.imshow(X_train[1,:,:,1])\n",
        "plt.show()\n",
        "plt.imshow(Y_train[1,:,:,3])\n",
        "plt.show()"
      ],
      "execution_count": null,
      "outputs": [
        {
          "output_type": "display_data",
          "data": {
            "image/png": "[encoded data removed]",
            "text/plain": [
              "<Figure size 432x288 with 1 Axes>"
            ]
          },
          "metadata": {
            "tags": []
          }
        },
        {
          "output_type": "display_data",
          "data": {
            "image/png": "[encoded data removed]",
            "text/plain": [
              "<Figure size 432x288 with 1 Axes>"
            ]
          },
          "metadata": {
            "tags": []
          }
        }
      ]
    },
    {
      "cell_type": "code",
      "metadata": {
        "id": "EFrVP8sWG4jN"
      },
      "source": [
        "#Saving the data one by one total set 4\n",
        "np.save('./Training Data/X_train4.npy',X_train)\n",
        "np.save('./Training Data/Y_train4.npy',Y_train)\n",
        "np.save('./Validation Data/X_val4.npy',X_val)\n",
        "np.save('./Validation Data/Y_val4.npy',Y_val)\n",
        "np.save('./Test Data/X_test4.npy',X_test)\n",
        "np.save('./Test Data/Y_test4.npy',Y_test)"
      ],
      "execution_count": null,
      "outputs": []
    },
    {
      "cell_type": "markdown",
      "metadata": {
        "id": "tvcU4hSRFuJM"
      },
      "source": [
        "# U-net + dice loss "
      ]
    },
    {
      "cell_type": "markdown",
      "metadata": {
        "id": "kE2RqYoGhF2M"
      },
      "source": [
        "## Loading Data"
      ]
    },
    {
      "cell_type": "code",
      "metadata": {
        "id": "bF4DyM6vTpL6",
        "outputId": "247ed3ef-3914-4daf-855e-6e5997eefd88",
        "colab": {
          "base_uri": "https://localhost:8080/",
          "height": 34
        }
      },
      "source": [
        "'''Using 4 sets made by pre-processing one by one each having training set of 3780, validaiton of 1260 and test data of 1260 slices of mri scans'''"
      ],
      "execution_count": null,
      "outputs": [
        {
          "output_type": "execute_result",
          "data": {
            "text/plain": [
              "'Using 4 sets made by pre-processing one by one each having training set of 3780, validaiton of 1260 and test data of 1260 slices of mri scans'"
            ]
          },
          "metadata": {
            "tags": []
          },
          "execution_count": 11
        }
      ]
    },
    {
      "cell_type": "code",
      "metadata": {
        "id": "H8jXhr7rihkq"
      },
      "source": [
        "import numpy as np"
      ],
      "execution_count": null,
      "outputs": []
    },
    {
      "cell_type": "code",
      "metadata": {
        "id": "mATyG2Ovgoo8"
      },
      "source": [
        "# X_train = np.load('./Training Data/X_train1.npy')\n",
        "# Y_train = np.load('./Training Data/Y_train1.npy')\n",
        "# X_train = np.load('./Training Data/X_train2.npy')\n",
        "# Y_train = np.load('./Training Data/Y_train2.npy')\n",
        "# X_train = np.load('./Training Data/X_train3.npy')\n",
        "# Y_train = np.load('./Training Data/Y_train3.npy')\n",
        "X_train = np.load('./Training Data/X_train4.npy')\n",
        "Y_train = np.load('./Training Data/Y_train4.npy')"
      ],
      "execution_count": null,
      "outputs": []
    },
    {
      "cell_type": "code",
      "metadata": {
        "id": "Gm51NyZKgoy-"
      },
      "source": [
        "# X_val = np.load('./Validation Data/X_val1.npy')\n",
        "# Y_val = np.load('./Validation Data/Y_val1.npy')\n",
        "# X_val = np.load('./Validation Data/X_val2.npy')\n",
        "# Y_val = np.load('./Validation Data/Y_val2.npy')\n",
        "# X_val = np.load('./Validation Data/X_val3.npy')\n",
        "# Y_val = np.load('./Validation Data/Y_val3.npy')\n",
        "X_val = np.load('./Validation Data/X_val4.npy')\n",
        "Y_val = np.load('./Validation Data/Y_val4.npy')"
      ],
      "execution_count": null,
      "outputs": []
    },
    {
      "cell_type": "code",
      "metadata": {
        "id": "M0i1H3FswM8W",
        "outputId": "8951de26-b86d-4a31-d168-4b6bafb58e69",
        "colab": {
          "base_uri": "https://localhost:8080/",
          "height": 90
        }
      },
      "source": [
        "X_train.shape,Y_train.shape,X_val.shape,Y_val.shape"
      ],
      "execution_count": null,
      "outputs": [
        {
          "output_type": "execute_result",
          "data": {
            "text/plain": [
              "((4050, 192, 192, 4),\n",
              " (4050, 192, 192, 4),\n",
              " (1350, 192, 192, 4),\n",
              " (1350, 192, 192, 4))"
            ]
          },
          "metadata": {
            "tags": []
          },
          "execution_count": 6
        }
      ]
    },
    {
      "cell_type": "code",
      "metadata": {
        "id": "Jg646tZVs2PO",
        "outputId": "022f75b1-0d23-45a0-b7e3-5370a03c4596",
        "colab": {
          "base_uri": "https://localhost:8080/",
          "height": 35
        }
      },
      "source": [
        " %tensorflow_version 1.x\n",
        "from keras.models import Model\n",
        "from keras.layers import MaxPooling2D,Conv2D,Dense,BatchNormalization,concatenate,Input,Dropout,Maximum,Activation,Dense,Flatten,UpSampling2D,Conv2DTranspose\n",
        "from keras.optimizers import SGD,Adam,RMSprop\n",
        "import keras.callbacks as callbacks\n",
        "import keras.initializers as initializers\n",
        "from keras.callbacks import Callback\n",
        "from keras import regularizers"
      ],
      "execution_count": null,
      "outputs": [
        {
          "output_type": "stream",
          "text": [
            "Using TensorFlow backend.\n"
          ],
          "name": "stderr"
        }
      ]
    },
    {
      "cell_type": "code",
      "metadata": {
        "id": "yf9NbvRUNu-u"
      },
      "source": [
        "############################################ U-net #############################################\n",
        "\n",
        "############ Encoder #############\n",
        "input_ = Input(shape=(192,192,4),name='input')                                              \n",
        "\n",
        "block1_conv1 = Conv2D(64,3,padding='same',activation='relu',name='block1_conv1')(input_)\n",
        "block1_conv2 = Conv2D(64,3,padding='same',activation='relu',name='block1_conv2')(block1_conv1)\n",
        "block1_norm = BatchNormalization(name='block1_batch_norm')(block1_conv2)\n",
        "block1_pool = MaxPooling2D(name='block1_pool')(block1_norm)\n",
        "\n",
        "block2_conv1 = Conv2D(128,3,padding='same',activation='relu',name='block2_conv1')(block1_pool)\n",
        "block2_conv2 = Conv2D(128,3,padding='same',activation='relu',name='block2_conv2')(block2_conv1)\n",
        "block2_norm = BatchNormalization(name='block2_batch_norm')(block2_conv2)\n",
        "block2_pool = MaxPooling2D(name='block2_pool')(block2_norm)\n",
        "\n",
        "encoder_dropout_1 = Dropout(0.2,name='encoder_dropout_1')(block2_pool)\n",
        "\n",
        "block3_conv1 = Conv2D(256,3,padding='same',activation='relu',name='block3_conv1')(encoder_dropout_1)\n",
        "block3_conv2 = Conv2D(256,3,padding='same',activation='relu',name='block3_conv2')(block3_conv1)\n",
        "block3_norm = BatchNormalization(name='block3_batch_norm')(block3_conv2)\n",
        "block3_pool = MaxPooling2D(name='block3_pool')(block3_norm)\n",
        "\n",
        "block4_conv1 = Conv2D(512,3,padding='same',activation='relu',name='block4_conv1')(block3_pool)\n",
        "block4_conv2 = Conv2D(512,3,padding='same',activation='relu',name='block4_conv2')(block4_conv1)\n",
        "block4_norm = BatchNormalization(name='block4_batch_norm')(block4_conv2)\n",
        "block4_pool = MaxPooling2D(name='block4_pool')(block4_norm)\n",
        "################### Encoder end ######################\n",
        "\n",
        "block5_conv1 = Conv2D(1024,3,padding='same',activation='relu',name='block5_conv1')(block4_pool)\n",
        "# encoder_dropout_2 = Dropout(0.2,name='encoder_dropout_2')(block5_conv1)\n",
        "\n",
        "########### Decoder ################\n",
        "\n",
        "up_pool1 = Conv2DTranspose(1024,3,strides = (2, 2),padding='same',activation='relu',name='up_pool1')(block5_conv1)\n",
        "merged_block1 = concatenate([block4_norm,up_pool1],name='merged_block1')\n",
        "decod_block1_conv1 = Conv2D(512,3, padding = 'same', activation='relu',name='decod_block1_conv1')(merged_block1)\n",
        "\n",
        "up_pool2 = Conv2DTranspose(512,3,strides = (2, 2),padding='same',activation='relu',name='up_pool2')(decod_block1_conv1)\n",
        "merged_block2 = concatenate([block3_norm,up_pool2],name='merged_block2')\n",
        "decod_block2_conv1 = Conv2D(256,3,padding = 'same',activation='relu',name='decod_block2_conv1')(merged_block2)\n",
        "\n",
        "decoder_dropout_1 = Dropout(0.2,name='decoder_dropout_1')(decod_block2_conv1)\n",
        "\n",
        "up_pool3 = Conv2DTranspose(256,3,strides = (2, 2),padding='same',activation='relu',name='up_pool3')(decoder_dropout_1)\n",
        "merged_block3 = concatenate([block2_norm,up_pool3],name='merged_block3')\n",
        "decod_block3_conv1 = Conv2D(128,3,padding = 'same',activation='relu',name='decod_block3_conv1')(merged_block3)\n",
        "\n",
        "up_pool4 = Conv2DTranspose(128,3,strides = (2, 2),padding='same',activation='relu',name='up_pool4')(decod_block3_conv1)\n",
        "merged_block4 = concatenate([block1_norm,up_pool4],name='merged_block4')\n",
        "decod_block4_conv1 = Conv2D(64,3,padding = 'same',activation='relu',name='decod_block4_conv1')(merged_block4)\n",
        "############ Decoder End ######################################\n",
        "\n",
        "# decoder_dropout_2 = Dropout(0.2,name='decoder_dropout_2')(decod_block4_conv1)\n",
        "\n",
        "pre_output = Conv2D(64,1,padding = 'same',activation='relu',name='pre_output')(decod_block4_conv1)\n",
        "\n",
        "output = Conv2D(4,1,padding='same',activation='softmax',name='output')(pre_output)\n",
        "\n",
        "model = Model(inputs = input_, outputs = output)\n",
        "model.summary()"
      ],
      "execution_count": null,
      "outputs": []
    },
    {
      "cell_type": "code",
      "metadata": {
        "id": "HgLqmh3u3aFt"
      },
      "source": [
        "from keras.utils import  plot_model\n"
      ],
      "execution_count": null,
      "outputs": []
    },
    {
      "cell_type": "markdown",
      "metadata": {
        "id": "iaj5sDNKDSnZ"
      },
      "source": [
        "## Loss Function"
      ]
    },
    {
      "cell_type": "code",
      "metadata": {
        "id": "FZ3asv7Pqsjr"
      },
      "source": [
        "from keras import backend as K\n",
        "def dice_coef(y_true, y_pred, epsilon=1e-6):\n",
        "    intersection = K.sum(K.abs(y_true * y_pred), axis=-1)\n",
        "    return (2. * intersection) / (K.sum(K.square(y_true),axis=-1) + K.sum(K.square(y_pred),axis=-1) + epsilon)\n",
        "\n",
        "def dice_coef_loss(y_true, y_pred):\n",
        "    return 1-dice_coef(y_true, y_pred)"
      ],
      "execution_count": null,
      "outputs": []
    },
    {
      "cell_type": "code",
      "metadata": {
        "id": "Kb78rAHs-4np"
      },
      "source": [
        "model.compile(optimizer=Adam(lr=1e-5),loss=dice_coef_loss,metrics=[dice_coef])\n",
        "model.load_weights('./Model Checkpoints/weights.hdf5')\n",
        "checkpointer = callbacks.ModelCheckpoint(filepath = './Model Checkpoints/weights.hdf5',save_best_only=True)\n",
        "training_log = callbacks.TensorBoard(log_dir='./Model_logs')"
      ],
      "execution_count": null,
      "outputs": []
    },
    {
      "cell_type": "code",
      "metadata": {
        "id": "GROyVhav_LYT"
      },
      "source": [
        "history = model.fit(X_train,Y_train,validation_data=(X_val,Y_val),batch_size=32,epochs=16,callbacks=[training_log,checkpointer],shuffle=True)"
      ],
      "execution_count": null,
      "outputs": []
    },
    {
      "cell_type": "code",
      "metadata": {
        "id": "UDwz_1rC_UwW",
        "outputId": "ad3eee4e-8d5d-495f-afaa-a389fac5a6ea",
        "colab": {
          "base_uri": "https://localhost:8080/",
          "height": 573
        }
      },
      "source": [
        "# summarize history for loss\n",
        "import matplotlib.pyplot as plt\n",
        "plt.plot(history.history['loss'])\n",
        "plt.plot(history.history['val_loss'])\n",
        "plt.title('model loss')\n",
        "plt.ylabel('dice coef loss')\n",
        "plt.xlabel('epoch')\n",
        "plt.legend(['train', 'val'], loc='upper left')\n",
        "plt.show()\n",
        "plt.plot(history.history['dice_coef'])\n",
        "plt.plot(history.history['val_dice_coef'])\n",
        "plt.title('model score')\n",
        "plt.ylabel('dice coef')\n",
        "plt.xlabel('epoch')\n",
        "plt.legend(['train', 'val'], loc='upper left')\n",
        "plt.show()"
      ],
      "execution_count": null,
      "outputs": [
        {
          "output_type": "display_data",
          "data": {
            "image/png": "[encoded data removed]",
            "text/plain": [
              "<Figure size 432x288 with 1 Axes>"
            ]
          },
          "metadata": {
            "tags": []
          }
        },
        {
          "output_type": "display_data",
          "data": {
            "image/png": "[encoded data removed]",
            "text/plain": [
              "<Figure size 432x288 with 1 Axes>"
            ]
          },
          "metadata": {
            "tags": []
          }
        }
      ]
    },
    {
      "cell_type": "code",
      "metadata": {
        "id": "y9IUJg9s3AhN"
      },
      "source": [
        "# X_test = np.load('./Test Data/X_test1.npy')\n",
        "# Y_test = np.load('./Test Data/Y_test1.npy')\n",
        "# X_test = np.load('./Test Data/X_test2.npy')\n",
        "# Y_test = np.load('./Test Data/Y_test2.npy')\n",
        "# X_test = np.load('./Test Data/X_test3.npy')\n",
        "# Y_test = np.load('./Test Data/Y_test3.npy')\n",
        "X_test = np.load('./Test Data/X_test4.npy')\n",
        "Y_test = np.load('./Test Data/Y_test4.npy')"
      ],
      "execution_count": null,
      "outputs": []
    },
    {
      "cell_type": "code",
      "metadata": {
        "id": "uW03qQ1x_Yp8"
      },
      "source": [
        "Y_pre = np.argmax(model.predict(X_test),axis=-1)"
      ],
      "execution_count": null,
      "outputs": []
    },
    {
      "cell_type": "code",
      "metadata": {
        "id": "NZhdXMGnRvAU",
        "outputId": "8cd9c181-8437-4137-83ff-83d0b6e984d5",
        "colab": {
          "base_uri": "https://localhost:8080/",
          "height": 35
        }
      },
      "source": [
        "np.unique(Y_pre)"
      ],
      "execution_count": null,
      "outputs": [
        {
          "output_type": "execute_result",
          "data": {
            "text/plain": [
              "array([0, 1, 2, 3])"
            ]
          },
          "metadata": {
            "tags": []
          },
          "execution_count": 15
        }
      ]
    },
    {
      "cell_type": "code",
      "metadata": {
        "id": "oiwctTbhOiG8",
        "outputId": "ae502a47-0a91-4a2f-eaaa-89c334f25e34",
        "colab": {
          "base_uri": "https://localhost:8080/",
          "height": 35
        }
      },
      "source": [
        "Y_pre.shape"
      ],
      "execution_count": null,
      "outputs": [
        {
          "output_type": "execute_result",
          "data": {
            "text/plain": [
              "(1350, 192, 192)"
            ]
          },
          "metadata": {
            "tags": []
          },
          "execution_count": 16
        }
      ]
    },
    {
      "cell_type": "code",
      "metadata": {
        "id": "N0j37VFT6VsP"
      },
      "source": [
        "Y_pre=Y_pre.reshape(-1,192,192,1)"
      ],
      "execution_count": null,
      "outputs": []
    },
    {
      "cell_type": "code",
      "metadata": {
        "id": "XFvdempo29ff",
        "outputId": "2364bb2e-1f34-4c31-ede1-1bb1a60f5f70",
        "colab": {
          "base_uri": "https://localhost:8080/",
          "height": 35
        }
      },
      "source": [
        "Y_test.shape,X_test.shape"
      ],
      "execution_count": null,
      "outputs": [
        {
          "output_type": "execute_result",
          "data": {
            "text/plain": [
              "((1350, 192, 192, 1), (1350, 192, 192, 4))"
            ]
          },
          "metadata": {
            "tags": []
          },
          "execution_count": 18
        }
      ]
    },
    {
      "cell_type": "code",
      "metadata": {
        "id": "MgS_tGLr_q9h"
      },
      "source": [
        "for i in range(498,500):\n",
        "  print('X_test '+ str(i))\n",
        "  plt.imshow(X_test[i,:,:,2])\n",
        "  plt.show()\n",
        "  plt.imshow(Y_pre[i,:,:,0])\n",
        "  plt.show()\n",
        "  plt.imshow(Y_test[i,:,:,0])\n",
        "  plt.show()"
      ],
      "execution_count": null,
      "outputs": []
    },
    {
      "cell_type": "code",
      "metadata": {
        "id": "qSovRKb5ErZZ"
      },
      "source": [
        "from keras.utils import to_categorical\n",
        "Y_test_encod = to_categorical(Y_test)"
      ],
      "execution_count": null,
      "outputs": []
    },
    {
      "cell_type": "code",
      "metadata": {
        "id": "N_zh-BuKCv4I",
        "outputId": "78d5f61a-5f10-4c9b-e175-36dd48289be5",
        "colab": {
          "base_uri": "https://localhost:8080/",
          "height": 35
        }
      },
      "source": [
        "model.evaluate(X_test,Y_test_encod,verbose=0)"
      ],
      "execution_count": null,
      "outputs": [
        {
          "output_type": "execute_result",
          "data": {
            "text/plain": [
              "[0.005474171455673598, 0.9945260692525792]"
            ]
          },
          "metadata": {
            "tags": []
          },
          "execution_count": 21
        }
      ]
    },
    {
      "cell_type": "code",
      "metadata": {
        "id": "pHHZlzMcozLP"
      },
      "source": [
        "model.save('./Saved Models /model.h5',overwrite=True)"
      ],
      "execution_count": null,
      "outputs": []
    },
    {
      "cell_type": "markdown",
      "metadata": {
        "id": "rHybPfuwKYB4"
      },
      "source": [
        "#Evaluation of the Model"
      ]
    },
    {
      "cell_type": "code",
      "metadata": {
        "id": "3aP4D3RkKeA0"
      },
      "source": [
        "import numpy as np\n",
        "X_test1 = np.load('./Test Data/X_test1.npy')\n",
        "X_test2 = np.load('./Test Data/X_test2.npy')\n",
        "X_test3 = np.load('./Test Data/X_test3.npy')\n",
        "X_test4 = np.load('./Test Data/X_test4.npy')\n",
        "\n",
        "Y_test1 = np.load('./Test Data/Y_test1.npy')\n",
        "Y_test2 = np.load('./Test Data/Y_test2.npy')\n",
        "Y_test3 = np.load('./Test Data/Y_test3.npy')\n",
        "Y_test4 = np.load('./Test Data/Y_test4.npy')"
      ],
      "execution_count": null,
      "outputs": []
    },
    {
      "cell_type": "code",
      "metadata": {
        "id": "0ljhlWUtP0W1"
      },
      "source": [
        "from keras.utils import to_categorical\n",
        "Y_test_encod1 = to_categorical(Y_test1)\n",
        "Y_test_encod2 = to_categorical(Y_test2)\n",
        "Y_test_encod3 = to_categorical(Y_test3)\n",
        "Y_test_encod4 = to_categorical(Y_test4)"
      ],
      "execution_count": null,
      "outputs": []
    },
    {
      "cell_type": "code",
      "metadata": {
        "id": "N51pVAsxQkcu",
        "colab": {
          "base_uri": "https://localhost:8080/",
          "height": 74
        },
        "outputId": "ede05859-3529-4d74-d4b7-2d3c1a419269"
      },
      "source": [
        "model.compile(optimizer=Adam(lr=1e-5),loss=[dice_coef_loss],metrics=[dice_coef])"
      ],
      "execution_count": null,
      "outputs": [
        {
          "output_type": "stream",
          "text": [
            "WARNING:tensorflow:From /usr/local/lib/python3.6/dist-packages/keras/optimizers.py:793: The name tf.train.Optimizer is deprecated. Please use tf.compat.v1.train.Optimizer instead.\n",
            "\n"
          ],
          "name": "stdout"
        }
      ]
    },
    {
      "cell_type": "code",
      "metadata": {
        "id": "5qmqs5JoNgh2"
      },
      "source": [
        "model.load_weights('./Model Checkpoints/weights.hdf5')"
      ],
      "execution_count": null,
      "outputs": []
    },
    {
      "cell_type": "code",
      "metadata": {
        "id": "jKpnTZWnQFPb",
        "outputId": "b77c4648-e6a0-40cb-bcdc-635fd0272efd",
        "colab": {
          "base_uri": "https://localhost:8080/",
          "height": 90
        }
      },
      "source": [
        "print('HGG Test set no: 1 with Dice Coefficient:- %.4f'%float(list(model.evaluate(X_test1,Y_test_encod1,batch_size=32,verbose=2))[1]))\n",
        "print('HGG Test set no: 2 with Dice Coefficient:- %.4f'%float(list(model.evaluate(X_test2,Y_test_encod2,batch_size=32,verbose=2))[1]))\n",
        "print('HGG Test set no: 3 with Dice Coefficient:- %.4f'%float(list(model.evaluate(X_test3,Y_test_encod3,batch_size=32,verbose=2))[1]))\n",
        "print('LGG Test set no: 4 with Dice Coefficient:- %.4f'%float(list(model.evaluate(X_test4,Y_test_encod4,batch_size=32,verbose=2))[1]))"
      ],
      "execution_count": null,
      "outputs": [
        {
          "output_type": "stream",
          "text": [
            "HGG Test set no: 1 with Dice Coefficient:- 0.9795\n",
            "HGG Test set no: 2 with Dice Coefficient:- 0.9855\n",
            "HGG Test set no: 3 with Dice Coefficient:- 0.9793\n",
            "LGG Test set no: 4 with Dice Coefficient:- 0.9950\n"
          ],
          "name": "stdout"
        }
      ]
    },
    {
      "cell_type": "code",
      "metadata": {
        "id": "RxkQVGwoRKgH"
      },
      "source": [
        "Y_pred1 = np.argmax(model.predict(X_test1),axis=-1).reshape(-1,192,192,1)\n",
        "Y_pred2 = np.argmax(model.predict(X_test2),axis=-1).reshape(-1,192,192,1)\n",
        "Y_pred3 = np.argmax(model.predict(X_test3),axis=-1).reshape(-1,192,192,1)\n",
        "Y_pred4 = np.argmax(model.predict(X_test4),axis=-1).reshape(-1,192,192,1)"
      ],
      "execution_count": null,
      "outputs": []
    },
    {
      "cell_type": "code",
      "metadata": {
        "id": "dq-mztVuQgD8"
      },
      "source": [
        "import matplotlib.pyplot as plt\n",
        "for i in range(450,500):\n",
        "  print('HGG test set no: 1 '+ 'slice no: ' + str(i))\n",
        "  plt.imshow(X_test1[i,:,:,2])\n",
        "  plt.show()\n",
        "  print('Predicted:- ')\n",
        "  plt.imshow(Y_pred1[i,:,:,0])\n",
        "  plt.show()\n",
        "  print('Actual:- ')\n",
        "  plt.imshow(Y_test1[i,:,:,0])\n",
        "  plt.show()\n",
        "for i in range(450,500):\n",
        "  print('HGG test set no: 2 '+ 'slice no: ' + str(i))\n",
        "  plt.imshow(X_test2[i,:,:,2])\n",
        "  plt.show()\n",
        "  print('Predicted:- ')\n",
        "  plt.imshow(Y_pred2[i,:,:,0])\n",
        "  plt.show()\n",
        "  print('Actual:- ')\n",
        "  plt.imshow(Y_test2[i,:,:,0])\n",
        "  plt.show()\n",
        "for i in range(450,500):\n",
        "  print('HGG test set no: 3 '+ 'slice no: ' + str(i))\n",
        "  plt.imshow(X_test3[i,:,:,2])\n",
        "  plt.show()\n",
        "  print('Predicted:- ')\n",
        "  plt.imshow(Y_pred3[i,:,:,0])\n",
        "  plt.show()\n",
        "  print('Actual:- ')\n",
        "  plt.imshow(Y_test3[i,:,:,0])\n",
        "  plt.show()\n",
        "for i in range(450,500):\n",
        "  print('LGG test slice no: ' + str(i))\n",
        "  plt.imshow(X_test4[i,:,:,1])\n",
        "  plt.show()\n",
        "  print('Predicted:- ')\n",
        "  plt.imshow(Y_pred4[i,:,:,0])\n",
        "  plt.show()\n",
        "  print('Actual:- ')\n",
        "  plt.imshow(Y_test4[i,:,:,0])\n",
        "  plt.show()"
      ],
      "execution_count": null,
      "outputs": []
    }
  ]
}